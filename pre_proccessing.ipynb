{
  "cells": [
    {
      "cell_type": "markdown",
      "metadata": {
        "id": "view-in-github",
        "colab_type": "text"
      },
      "source": [
        "<a href=\"https://colab.research.google.com/github/Shaghayegh-bgh/Data-Exploration-and-Preprocessing/blob/main/pre_proccessing.ipynb\" target=\"_parent\"><img src=\"https://colab.research.google.com/assets/colab-badge.svg\" alt=\"Open In Colab\"/></a>"
      ]
    },
    {
      "cell_type": "markdown",
      "metadata": {
        "id": "thi_KkAEV6lL"
      },
      "source": [
        "# **Data Exploration and Preprocessing**"
      ]
    },
    {
      "cell_type": "markdown",
      "metadata": {
        "id": "af5nXuWBV6lN"
      },
      "source": [
        "### Load the libraries"
      ]
    },
    {
      "cell_type": "code",
      "execution_count": null,
      "metadata": {
        "id": "frtilEkWV6lO"
      },
      "outputs": [],
      "source": [
        "import pandas as pd\n",
        "import numpy as np\n"
      ]
    },
    {
      "cell_type": "markdown",
      "metadata": {
        "id": "6jlybMbRV6lP"
      },
      "source": [
        "### Loading the dataset"
      ]
    },
    {
      "cell_type": "code",
      "execution_count": null,
      "metadata": {
        "id": "02K1tvL_V6lP"
      },
      "outputs": [],
      "source": [
        "df = pd.read_excel('stock.xlsx')"
      ]
    },
    {
      "cell_type": "markdown",
      "metadata": {
        "id": "4SvQGy2sV6lP"
      },
      "source": [
        "### Preview First Rows of Dataset"
      ]
    },
    {
      "cell_type": "code",
      "execution_count": null,
      "metadata": {
        "id": "ej4g1EH3V6lQ",
        "outputId": "27b8a246-d38a-4f95-abc0-8a1d8b1b3144"
      },
      "outputs": [
        {
          "data": {
            "text/html": [
              "<div>\n",
              "<style scoped>\n",
              "    .dataframe tbody tr th:only-of-type {\n",
              "        vertical-align: middle;\n",
              "    }\n",
              "\n",
              "    .dataframe tbody tr th {\n",
              "        vertical-align: top;\n",
              "    }\n",
              "\n",
              "    .dataframe thead th {\n",
              "        text-align: right;\n",
              "    }\n",
              "</style>\n",
              "<table border=\"1\" class=\"dataframe\">\n",
              "  <thead>\n",
              "    <tr style=\"text-align: right;\">\n",
              "      <th></th>\n",
              "      <th>InvoiceNo</th>\n",
              "      <th>StockCode</th>\n",
              "      <th>Description</th>\n",
              "      <th>Quantity</th>\n",
              "      <th>InvoiceDate</th>\n",
              "      <th>UnitPrice</th>\n",
              "      <th>CustomerID</th>\n",
              "      <th>Country</th>\n",
              "    </tr>\n",
              "  </thead>\n",
              "  <tbody>\n",
              "    <tr>\n",
              "      <th>0</th>\n",
              "      <td>536365</td>\n",
              "      <td>85123A</td>\n",
              "      <td>WHITE HANGING HEART T-LIGHT HOLDER</td>\n",
              "      <td>6</td>\n",
              "      <td>2010-12-01 08:26:00</td>\n",
              "      <td>2.55</td>\n",
              "      <td>17850.0</td>\n",
              "      <td>United Kingdom</td>\n",
              "    </tr>\n",
              "    <tr>\n",
              "      <th>1</th>\n",
              "      <td>536365</td>\n",
              "      <td>71053</td>\n",
              "      <td>WHITE METAL LANTERN</td>\n",
              "      <td>6</td>\n",
              "      <td>2010-12-01 08:26:00</td>\n",
              "      <td>3.39</td>\n",
              "      <td>17850.0</td>\n",
              "      <td>United Kingdom</td>\n",
              "    </tr>\n",
              "    <tr>\n",
              "      <th>2</th>\n",
              "      <td>536365</td>\n",
              "      <td>84406B</td>\n",
              "      <td>CREAM CUPID HEARTS COAT HANGER</td>\n",
              "      <td>8</td>\n",
              "      <td>2010-12-01 08:26:00</td>\n",
              "      <td>2.75</td>\n",
              "      <td>17850.0</td>\n",
              "      <td>United Kingdom</td>\n",
              "    </tr>\n",
              "    <tr>\n",
              "      <th>3</th>\n",
              "      <td>536365</td>\n",
              "      <td>84029G</td>\n",
              "      <td>KNITTED UNION FLAG HOT WATER BOTTLE</td>\n",
              "      <td>6</td>\n",
              "      <td>2010-12-01 08:26:00</td>\n",
              "      <td>3.39</td>\n",
              "      <td>17850.0</td>\n",
              "      <td>United Kingdom</td>\n",
              "    </tr>\n",
              "    <tr>\n",
              "      <th>4</th>\n",
              "      <td>536365</td>\n",
              "      <td>84029E</td>\n",
              "      <td>RED WOOLLY HOTTIE WHITE HEART.</td>\n",
              "      <td>6</td>\n",
              "      <td>2010-12-01 08:26:00</td>\n",
              "      <td>3.39</td>\n",
              "      <td>17850.0</td>\n",
              "      <td>United Kingdom</td>\n",
              "    </tr>\n",
              "  </tbody>\n",
              "</table>\n",
              "</div>"
            ],
            "text/plain": [
              "  InvoiceNo StockCode                          Description  Quantity  \\\n",
              "0    536365    85123A   WHITE HANGING HEART T-LIGHT HOLDER         6   \n",
              "1    536365     71053                  WHITE METAL LANTERN         6   \n",
              "2    536365    84406B       CREAM CUPID HEARTS COAT HANGER         8   \n",
              "3    536365    84029G  KNITTED UNION FLAG HOT WATER BOTTLE         6   \n",
              "4    536365    84029E       RED WOOLLY HOTTIE WHITE HEART.         6   \n",
              "\n",
              "          InvoiceDate  UnitPrice  CustomerID         Country  \n",
              "0 2010-12-01 08:26:00       2.55     17850.0  United Kingdom  \n",
              "1 2010-12-01 08:26:00       3.39     17850.0  United Kingdom  \n",
              "2 2010-12-01 08:26:00       2.75     17850.0  United Kingdom  \n",
              "3 2010-12-01 08:26:00       3.39     17850.0  United Kingdom  \n",
              "4 2010-12-01 08:26:00       3.39     17850.0  United Kingdom  "
            ]
          },
          "execution_count": 3,
          "metadata": {},
          "output_type": "execute_result"
        }
      ],
      "source": [
        "df.head()"
      ]
    },
    {
      "cell_type": "markdown",
      "metadata": {
        "id": "l1Hhl6ZzV6lR"
      },
      "source": [
        "### Shape of the Dataframe"
      ]
    },
    {
      "cell_type": "code",
      "execution_count": null,
      "metadata": {
        "id": "bQOP4m8DV6lR",
        "outputId": "4cb659fd-efdc-4e69-fc42-458a91a28038"
      },
      "outputs": [
        {
          "name": "stdout",
          "output_type": "stream",
          "text": [
            "Shape of dataset: (541909, 8)\n"
          ]
        }
      ],
      "source": [
        "# the number of rows and columns in the DataFrame as a tuple\n",
        "print(\"Shape of dataset:\", df.shape)"
      ]
    },
    {
      "cell_type": "markdown",
      "metadata": {
        "id": "9YfpyLAyV6lR"
      },
      "source": [
        "### Basic Array Info from Dataset"
      ]
    },
    {
      "cell_type": "code",
      "execution_count": null,
      "metadata": {
        "id": "C1yeB6PvV6lR",
        "outputId": "651b69bf-6f33-4c9e-9e54-bbbfd9e2294f"
      },
      "outputs": [
        {
          "name": "stdout",
          "output_type": "stream",
          "text": [
            "\n",
            "Array shape: (541909, 8)\n",
            "Array size: 4335272\n",
            "Array dimensions (ndim): 2\n"
          ]
        }
      ],
      "source": [
        "# Convert the pandas DataFrame to a NumPy array\n",
        "data_array = df.to_numpy()\n",
        "\n",
        "# number of rows and columns\n",
        "print(\"\\nArray shape:\", data_array.shape)\n",
        "\n",
        "# total number of elements in the array\n",
        "print(\"Array size:\", data_array.size)\n",
        "\n",
        "# the number of dimensions of the array\n",
        "print(\"Array dimensions (ndim):\", data_array.ndim)"
      ]
    },
    {
      "cell_type": "markdown",
      "metadata": {
        "id": "00NryqyEV6lS"
      },
      "source": [
        "### Checking missing values"
      ]
    },
    {
      "cell_type": "code",
      "execution_count": null,
      "metadata": {
        "id": "4ckuqAO4V6lS",
        "outputId": "d5ac81c6-680c-4621-9656-29bb8c38c292"
      },
      "outputs": [
        {
          "name": "stdout",
          "output_type": "stream",
          "text": [
            "\n",
            "Null counts per column:\n",
            "InvoiceNo           0\n",
            "StockCode           0\n",
            "Description      1454\n",
            "Quantity            0\n",
            "InvoiceDate         0\n",
            "UnitPrice           0\n",
            "CustomerID     135080\n",
            "Country             0\n",
            "dtype: int64\n"
          ]
        }
      ],
      "source": [
        "print(\"\\nNull counts per column:\")\n",
        "print(df.isnull().sum())"
      ]
    },
    {
      "cell_type": "markdown",
      "metadata": {
        "id": "IlPDcNemV6lS"
      },
      "source": [
        "### Filling missing values"
      ]
    },
    {
      "cell_type": "code",
      "execution_count": null,
      "metadata": {
        "id": "JT3YhliPV6lS",
        "outputId": "0d70c810-ad82-426a-c527-b492b6fb2eb7"
      },
      "outputs": [
        {
          "name": "stdout",
          "output_type": "stream",
          "text": [
            "InvoiceNo      0\n",
            "StockCode      0\n",
            "Description    0\n",
            "Quantity       0\n",
            "InvoiceDate    0\n",
            "UnitPrice      0\n",
            "CustomerID     0\n",
            "Country        0\n",
            "dtype: int64\n"
          ]
        }
      ],
      "source": [
        "# We did not drop the missing values in the CustomerID column due to their large number\n",
        "# we filled them with the word \"unknown\"\n",
        "df['CustomerID'] = df['CustomerID'].fillna('Unknown')\n",
        "\n",
        "# the missing values in the Description column were filled with \"No Description\"\n",
        "df['Description'] = df['Description'].fillna('No Description')\n",
        "\n",
        "\n",
        "print(df.isnull().sum())"
      ]
    },
    {
      "cell_type": "markdown",
      "metadata": {
        "id": "NMNpHre3V6lT"
      },
      "source": [
        "### Data Types of Each Column"
      ]
    },
    {
      "cell_type": "code",
      "execution_count": null,
      "metadata": {
        "id": "X-spx5C7V6lT",
        "outputId": "d16ad133-1a9c-405b-e087-07c3ed38707a"
      },
      "outputs": [
        {
          "name": "stdout",
          "output_type": "stream",
          "text": [
            "\n",
            "Data types per column:\n",
            "InvoiceNo              object\n",
            "StockCode              object\n",
            "Description            object\n",
            "Quantity                int64\n",
            "InvoiceDate    datetime64[ns]\n",
            "UnitPrice             float64\n",
            "CustomerID            float64\n",
            "Country                object\n",
            "dtype: object\n"
          ]
        }
      ],
      "source": [
        "print(\"\\nData types per column:\")\n",
        "print(df.dtypes)"
      ]
    },
    {
      "cell_type": "markdown",
      "metadata": {
        "id": "wyguIY_pV6lT"
      },
      "source": [
        "### Check Columns for Different Data Types"
      ]
    },
    {
      "cell_type": "code",
      "execution_count": null,
      "metadata": {
        "id": "qPEkVmkuV6lT",
        "outputId": "c438c8e5-0893-456c-cbcb-a03deb8d6ed0"
      },
      "outputs": [
        {
          "name": "stdout",
          "output_type": "stream",
          "text": [
            "\n",
            " Mixed data types found in column 'InvoiceNo':\n",
            "InvoiceNo\n",
            "<class 'int'>    532618\n",
            "<class 'str'>      9291\n",
            "Name: count, dtype: int64\n",
            "\n",
            " Mixed data types found in column 'StockCode':\n",
            "StockCode\n",
            "<class 'int'>    487036\n",
            "<class 'str'>     54873\n",
            "Name: count, dtype: int64\n",
            "\n",
            " Mixed data types found in column 'Description':\n",
            "Description\n",
            "<class 'str'>    541908\n",
            "<class 'int'>         1\n",
            "Name: count, dtype: int64\n"
          ]
        }
      ],
      "source": [
        "# For each column in the DataFrame,\n",
        "# it identifies the data type of each value\n",
        "# and counts the number of occurrences for each type\n",
        "for col in df.columns:\n",
        "    types = df[col].map(type).value_counts()\n",
        "\n",
        "    # If a column contains more than one data type it prints a warning message.\n",
        "    if len(types) > 1:\n",
        "        print(f\"\\n Mixed data types found in column '{col}':\")\n",
        "        print(types)"
      ]
    },
    {
      "cell_type": "markdown",
      "metadata": {
        "id": "CRFJkYpVV6lU"
      },
      "source": [
        "### Analysis of the output :\n",
        "\n",
        "The columns InvoiceNo and StockCode mostly contain numeric data, but there are a few thousand string values that need to be standardized (for example, converting all values to strings).\n",
        "\n",
        "The Description column is almost entirely textual, with only one incorrect numeric value that needs to be corrected."
      ]
    },
    {
      "cell_type": "markdown",
      "metadata": {
        "id": "RSyRRw5wV6lU"
      },
      "source": [
        "### Converting the values in the InvoiceNo and StockCode columns to strings"
      ]
    },
    {
      "cell_type": "code",
      "execution_count": null,
      "metadata": {
        "id": "ndqXx9fbV6lU"
      },
      "outputs": [],
      "source": [
        "# Converting the InvoiceNo and StockCode columns to strings\n",
        "df['InvoiceNo'] = df['InvoiceNo'].astype(str)\n",
        "df['StockCode'] = df['StockCode'].astype(str)\n",
        "\n",
        "# Converting Description to string\n",
        "df['Description'] = df['Description'].astype(str)\n"
      ]
    }
  ],
  "metadata": {
    "kernelspec": {
      "display_name": "Python 3",
      "language": "python",
      "name": "python3"
    },
    "language_info": {
      "codemirror_mode": {
        "name": "ipython",
        "version": 3
      },
      "file_extension": ".py",
      "mimetype": "text/x-python",
      "name": "python",
      "nbconvert_exporter": "python",
      "pygments_lexer": "ipython3",
      "version": "3.13.5"
    },
    "colab": {
      "provenance": [],
      "include_colab_link": true
    }
  },
  "nbformat": 4,
  "nbformat_minor": 0
}